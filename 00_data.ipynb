{
  "cells": [
    {
      "cell_type": "code",
      "source": [
        "# default_exp data\n",
        "%load_ext lab_black\n",
        "# nb_black if running in jupyter\n",
        "%load_ext autoreload\n",
        "# automatically reload python modules if there are changes in the\n",
        "%autoreload 2"
      ],
      "outputs": [],
      "execution_count": null,
      "metadata": {}
    },
    {
      "cell_type": "code",
      "source": [
        "# hide\n",
        "from nbdev.showdoc import *"
      ],
      "outputs": [],
      "execution_count": null,
      "metadata": {}
    },
    {
      "cell_type": "markdown",
      "source": [
        "# Data\n",
        "\n",
        "> You should begin your work by cleaning up your data and possibly defining tools for doing it repeateadly.\n",
        "\n"
      ],
      "metadata": {}
    },
    {
      "cell_type": "markdown",
      "source": [
        "***input***: raw data\n",
        "\n",
        "***output***: clean and tidy dataset + toy dataset for testing\n",
        "\n",
        "***description:***\n",
        "\n",
        "This is the first notebook of your machine learning project. In this notebook, you will load the data, inspect, clean and make it tidy. \n",
        "You will define the data points and their features and labels. The output of this notebook is a clean, tidy dataset ready for analysis and machine learning.\n",
        "You can also do a basic statistical analysis of the data to better understand it.\n",
        "For any functions you define for handling the data, remember to mark their cells with `# export` -comment,\n",
        "so that they will be included in the data.py-module build based on this notebook.\n",
        "You can also include unit tests for your own functions.\n",
        "\n",
        "Rewrite this and the other text cells with your own descriptions."
      ],
      "metadata": {}
    },
    {
      "cell_type": "markdown",
      "source": [
        "## Import relevant modules"
      ],
      "metadata": {}
    },
    {
      "cell_type": "code",
      "source": [
        "import numpy as np\n",
        "\n",
        "# your code here"
      ],
      "outputs": [],
      "execution_count": null,
      "metadata": {}
    },
    {
      "cell_type": "markdown",
      "source": [
        "## Define notebook parameters\n",
        "\n",
        "Define input, output and additional parameters of this notebook, the information needed for running the notebook.\n",
        "In your own project, you can do this step in the later iterations of the work,\n",
        "when you know what is required.\n",
        "In this cell, only assing values to variables directly: `variable_name = value`.\n",
        "**Do not derive any information in this cell as it will mess up the parameterization** - do it in the cell below."
      ],
      "metadata": {}
    },
    {
      "cell_type": "code",
      "source": [
        "# This cell is tagged with 'parameters'\n",
        "seed = 0\n",
        "# your code here"
      ],
      "outputs": [],
      "execution_count": null,
      "metadata": {}
    },
    {
      "cell_type": "markdown",
      "source": [
        "Define any immediate derivative operations from the parameters:"
      ],
      "metadata": {}
    },
    {
      "cell_type": "code",
      "source": [
        "# set seed\n",
        "np.random.seed(seed)\n",
        "# your code here"
      ],
      "outputs": [],
      "execution_count": null,
      "metadata": {}
    },
    {
      "cell_type": "markdown",
      "source": [
        "## Load the data"
      ],
      "metadata": {}
    },
    {
      "cell_type": "code",
      "source": [
        "# your code here"
      ],
      "outputs": [],
      "execution_count": null,
      "metadata": {}
    },
    {
      "cell_type": "markdown",
      "source": [
        "## Describe the data\n",
        "\n",
        "Define data points, features and labels"
      ],
      "metadata": {}
    },
    {
      "cell_type": "code",
      "source": [
        "# your code here"
      ],
      "outputs": [],
      "execution_count": null,
      "metadata": {}
    },
    {
      "cell_type": "markdown",
      "source": [
        "## Clean the data and make it tidy"
      ],
      "metadata": {}
    },
    {
      "cell_type": "code",
      "source": [
        "# your code here"
      ],
      "outputs": [],
      "execution_count": null,
      "metadata": {}
    },
    {
      "cell_type": "markdown",
      "source": [
        "## Visualize the data"
      ],
      "metadata": {}
    },
    {
      "cell_type": "code",
      "source": [
        "# your code here"
      ],
      "outputs": [],
      "execution_count": null,
      "metadata": {}
    },
    {
      "cell_type": "markdown",
      "source": [
        "## Intermediate conclusions based on data visualization\n",
        "\n",
        "what do you see?"
      ],
      "metadata": {}
    },
    {
      "cell_type": "markdown",
      "source": [
        "## Suffle Dataset"
      ],
      "metadata": {}
    },
    {
      "cell_type": "code",
      "source": [
        "# your code here"
      ],
      "outputs": [],
      "execution_count": null,
      "metadata": {}
    },
    {
      "cell_type": "markdown",
      "source": [
        "## Save clean and tidy data for further use"
      ],
      "metadata": {}
    },
    {
      "cell_type": "code",
      "source": [
        "# your code here"
      ],
      "outputs": [],
      "execution_count": null,
      "metadata": {}
    },
    {
      "cell_type": "markdown",
      "source": [
        "## Create small toy dataset for developing and testing the ML methods"
      ],
      "metadata": {}
    },
    {
      "cell_type": "code",
      "source": [
        "# your code here"
      ],
      "outputs": [],
      "execution_count": null,
      "metadata": {}
    },
    {
      "cell_type": "markdown",
      "source": [
        "save the toy dataset:"
      ],
      "metadata": {}
    },
    {
      "cell_type": "code",
      "source": [
        "# your code here"
      ],
      "outputs": [],
      "execution_count": null,
      "metadata": {}
    },
    {
      "cell_type": "markdown",
      "source": [
        "## You can now move on to the model notebook!"
      ],
      "metadata": {}
    }
  ],
  "metadata": {
    "kernelspec": {
      "name": "ml_project_template_test_nuutti",
      "language": "python",
      "display_name": "Python 3.8.5 (template test)"
    },
    "language_info": {
      "name": "python",
      "version": "3.8.5",
      "mimetype": "text/x-python",
      "codemirror_mode": {
        "name": "ipython",
        "version": 3
      },
      "pygments_lexer": "ipython3",
      "nbconvert_exporter": "python",
      "file_extension": ".py"
    },
    "kernel_info": {
      "name": "ml_project_template_test_nuutti"
    },
    "nteract": {
      "version": "nteract-front-end@1.0.0"
    }
  },
  "nbformat": 4,
  "nbformat_minor": 4
}